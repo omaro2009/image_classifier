{
  "nbformat": 4,
  "nbformat_minor": 0,
  "metadata": {
    "colab": {
      "provenance": []
    },
    "kernelspec": {
      "name": "python3",
      "display_name": "Python 3"
    },
    "language_info": {
      "name": "python"
    }
  },
  "cells": [
    {
      "cell_type": "code",
      "execution_count": null,
      "metadata": {
        "colab": {
          "base_uri": "https://localhost:8080/",
          "height": 73
        },
        "id": "RNTpru7rbMkd",
        "outputId": "b32d7747-107a-4ee2-dd69-15e69080a465"
      },
      "outputs": [
        {
          "output_type": "display_data",
          "data": {
            "text/plain": [
              "<IPython.core.display.HTML object>"
            ],
            "text/html": [
              "\n",
              "     <input type=\"file\" id=\"files-58ab86ae-6c4e-483d-95c7-48ead436cef4\" name=\"files[]\" multiple disabled\n",
              "        style=\"border:none\" />\n",
              "     <output id=\"result-58ab86ae-6c4e-483d-95c7-48ead436cef4\">\n",
              "      Upload widget is only available when the cell has been executed in the\n",
              "      current browser session. Please rerun this cell to enable.\n",
              "      </output>\n",
              "      <script>// Copyright 2017 Google LLC\n",
              "//\n",
              "// Licensed under the Apache License, Version 2.0 (the \"License\");\n",
              "// you may not use this file except in compliance with the License.\n",
              "// You may obtain a copy of the License at\n",
              "//\n",
              "//      http://www.apache.org/licenses/LICENSE-2.0\n",
              "//\n",
              "// Unless required by applicable law or agreed to in writing, software\n",
              "// distributed under the License is distributed on an \"AS IS\" BASIS,\n",
              "// WITHOUT WARRANTIES OR CONDITIONS OF ANY KIND, either express or implied.\n",
              "// See the License for the specific language governing permissions and\n",
              "// limitations under the License.\n",
              "\n",
              "/**\n",
              " * @fileoverview Helpers for google.colab Python module.\n",
              " */\n",
              "(function(scope) {\n",
              "function span(text, styleAttributes = {}) {\n",
              "  const element = document.createElement('span');\n",
              "  element.textContent = text;\n",
              "  for (const key of Object.keys(styleAttributes)) {\n",
              "    element.style[key] = styleAttributes[key];\n",
              "  }\n",
              "  return element;\n",
              "}\n",
              "\n",
              "// Max number of bytes which will be uploaded at a time.\n",
              "const MAX_PAYLOAD_SIZE = 100 * 1024;\n",
              "\n",
              "function _uploadFiles(inputId, outputId) {\n",
              "  const steps = uploadFilesStep(inputId, outputId);\n",
              "  const outputElement = document.getElementById(outputId);\n",
              "  // Cache steps on the outputElement to make it available for the next call\n",
              "  // to uploadFilesContinue from Python.\n",
              "  outputElement.steps = steps;\n",
              "\n",
              "  return _uploadFilesContinue(outputId);\n",
              "}\n",
              "\n",
              "// This is roughly an async generator (not supported in the browser yet),\n",
              "// where there are multiple asynchronous steps and the Python side is going\n",
              "// to poll for completion of each step.\n",
              "// This uses a Promise to block the python side on completion of each step,\n",
              "// then passes the result of the previous step as the input to the next step.\n",
              "function _uploadFilesContinue(outputId) {\n",
              "  const outputElement = document.getElementById(outputId);\n",
              "  const steps = outputElement.steps;\n",
              "\n",
              "  const next = steps.next(outputElement.lastPromiseValue);\n",
              "  return Promise.resolve(next.value.promise).then((value) => {\n",
              "    // Cache the last promise value to make it available to the next\n",
              "    // step of the generator.\n",
              "    outputElement.lastPromiseValue = value;\n",
              "    return next.value.response;\n",
              "  });\n",
              "}\n",
              "\n",
              "/**\n",
              " * Generator function which is called between each async step of the upload\n",
              " * process.\n",
              " * @param {string} inputId Element ID of the input file picker element.\n",
              " * @param {string} outputId Element ID of the output display.\n",
              " * @return {!Iterable<!Object>} Iterable of next steps.\n",
              " */\n",
              "function* uploadFilesStep(inputId, outputId) {\n",
              "  const inputElement = document.getElementById(inputId);\n",
              "  inputElement.disabled = false;\n",
              "\n",
              "  const outputElement = document.getElementById(outputId);\n",
              "  outputElement.innerHTML = '';\n",
              "\n",
              "  const pickedPromise = new Promise((resolve) => {\n",
              "    inputElement.addEventListener('change', (e) => {\n",
              "      resolve(e.target.files);\n",
              "    });\n",
              "  });\n",
              "\n",
              "  const cancel = document.createElement('button');\n",
              "  inputElement.parentElement.appendChild(cancel);\n",
              "  cancel.textContent = 'Cancel upload';\n",
              "  const cancelPromise = new Promise((resolve) => {\n",
              "    cancel.onclick = () => {\n",
              "      resolve(null);\n",
              "    };\n",
              "  });\n",
              "\n",
              "  // Wait for the user to pick the files.\n",
              "  const files = yield {\n",
              "    promise: Promise.race([pickedPromise, cancelPromise]),\n",
              "    response: {\n",
              "      action: 'starting',\n",
              "    }\n",
              "  };\n",
              "\n",
              "  cancel.remove();\n",
              "\n",
              "  // Disable the input element since further picks are not allowed.\n",
              "  inputElement.disabled = true;\n",
              "\n",
              "  if (!files) {\n",
              "    return {\n",
              "      response: {\n",
              "        action: 'complete',\n",
              "      }\n",
              "    };\n",
              "  }\n",
              "\n",
              "  for (const file of files) {\n",
              "    const li = document.createElement('li');\n",
              "    li.append(span(file.name, {fontWeight: 'bold'}));\n",
              "    li.append(span(\n",
              "        `(${file.type || 'n/a'}) - ${file.size} bytes, ` +\n",
              "        `last modified: ${\n",
              "            file.lastModifiedDate ? file.lastModifiedDate.toLocaleDateString() :\n",
              "                                    'n/a'} - `));\n",
              "    const percent = span('0% done');\n",
              "    li.appendChild(percent);\n",
              "\n",
              "    outputElement.appendChild(li);\n",
              "\n",
              "    const fileDataPromise = new Promise((resolve) => {\n",
              "      const reader = new FileReader();\n",
              "      reader.onload = (e) => {\n",
              "        resolve(e.target.result);\n",
              "      };\n",
              "      reader.readAsArrayBuffer(file);\n",
              "    });\n",
              "    // Wait for the data to be ready.\n",
              "    let fileData = yield {\n",
              "      promise: fileDataPromise,\n",
              "      response: {\n",
              "        action: 'continue',\n",
              "      }\n",
              "    };\n",
              "\n",
              "    // Use a chunked sending to avoid message size limits. See b/62115660.\n",
              "    let position = 0;\n",
              "    do {\n",
              "      const length = Math.min(fileData.byteLength - position, MAX_PAYLOAD_SIZE);\n",
              "      const chunk = new Uint8Array(fileData, position, length);\n",
              "      position += length;\n",
              "\n",
              "      const base64 = btoa(String.fromCharCode.apply(null, chunk));\n",
              "      yield {\n",
              "        response: {\n",
              "          action: 'append',\n",
              "          file: file.name,\n",
              "          data: base64,\n",
              "        },\n",
              "      };\n",
              "\n",
              "      let percentDone = fileData.byteLength === 0 ?\n",
              "          100 :\n",
              "          Math.round((position / fileData.byteLength) * 100);\n",
              "      percent.textContent = `${percentDone}% done`;\n",
              "\n",
              "    } while (position < fileData.byteLength);\n",
              "  }\n",
              "\n",
              "  // All done.\n",
              "  yield {\n",
              "    response: {\n",
              "      action: 'complete',\n",
              "    }\n",
              "  };\n",
              "}\n",
              "\n",
              "scope.google = scope.google || {};\n",
              "scope.google.colab = scope.google.colab || {};\n",
              "scope.google.colab._files = {\n",
              "  _uploadFiles,\n",
              "  _uploadFilesContinue,\n",
              "};\n",
              "})(self);\n",
              "</script> "
            ]
          },
          "metadata": {}
        },
        {
          "output_type": "stream",
          "name": "stdout",
          "text": [
            "Saving classifier data.zip to classifier data.zip\n"
          ]
        }
      ],
      "source": [
        "#Prepare data\n",
        "from google.colab import files\n",
        "\n",
        "# Prompt the user to upload a file\n",
        "uploaded = files.upload()\n"
      ]
    },
    {
      "cell_type": "code",
      "source": [
        "# extract zip file\n",
        "import zipfile\n",
        "for filename in uploaded.keys():\n",
        "    # Unzip the uploaded file\n",
        "    with zipfile.ZipFile(filename, 'r') as zip_ref:\n",
        "        zip_ref.extractall('uploaded_folder')  # Extract the contents to a folder named 'uploaded_folder'\n",
        "    print(f'Uploaded folder: {filename}')"
      ],
      "metadata": {
        "colab": {
          "base_uri": "https://localhost:8080/"
        },
        "id": "GubRa6pQb6fd",
        "outputId": "a9fc91a2-1449-4cd8-b74a-1e015f12defd"
      },
      "execution_count": null,
      "outputs": [
        {
          "output_type": "stream",
          "name": "stdout",
          "text": [
            "Uploaded folder: classifier data.zip\n"
          ]
        }
      ]
    },
    {
      "cell_type": "code",
      "source": [
        "#Defining categories of the dataset of the picture\n",
        "import os\n",
        "from skimage.io import imread\n",
        "from skimage.transform import resize\n",
        "categories=['Accessories','Fashion','Nutrition']\n",
        "data = []\n",
        "labels = []\n",
        "path='/content/uploaded_folder/classifier data'\n",
        "for category_idx,category in enumerate(categories):# iterates over each category in the categories list while also providing an index for each category using enumerate\n",
        "        if not os.path.exists(category):\n",
        "            os.makedirs(category) #list all files in a directory, and os.path.join is used to construct the full path to the directory containing the files for the current category\n",
        "            for file in os.listdir(os.path.join(path, category)):\n",
        "              img_path = os.path.join(path, category, file)\n",
        "              img = imread(img_path)#imread is typically a function from image processing libraries like OpenCV or scikit-image and is used to read images from disk\n",
        "              img = resize(img, (15, 15)) #resizing the size image\n",
        "              data.append(img.flatten()) #\n",
        "              labels.append(category_idx)\n",
        "\n"
      ],
      "metadata": {
        "id": "x0TdjTKccmbO"
      },
      "execution_count": null,
      "outputs": []
    },
    {
      "cell_type": "code",
      "source": [
        "import numpy as np\n",
        "data = np.asarray(data)\n",
        "labels = np.asarray(labels)\n"
      ],
      "metadata": {
        "id": "I0ePS9-4jxJF"
      },
      "execution_count": null,
      "outputs": []
    },
    {
      "cell_type": "markdown",
      "source": [
        "at this part of the project the data is ready to be interpreted on one of the machine learning algorithm as this problem is considered a classifier support vector machine and Random forest are suitable for the project.![Capture.PNG](data:image/png;base64,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)"
      ],
      "metadata": {
        "id": "B7qAVqR3nZII"
      }
    },
    {
      "cell_type": "markdown",
      "source": [
        "Support Vector Machine (SVM) is a supervised learning algorithm used for classification and regression tasks. SVMs are particularly effective in high-dimensional spaces and are capable of constructing a hyperplane or set of hyperplanes in a high-dimensional space, which can be used for classification, regression, or outlier detection.\n",
        "\n",
        "Here's a brief overview of how SVM works for classification tasks:\n",
        "\n",
        "Linear Separability: SVM aims to find the hyperplane that best separates the classes in the feature space. In a binary classification problem, this hyperplane is a line in two dimensions, a plane in three dimensions, and a hyperplane in higher dimensions. The goal is to find the hyperplane that maximizes the margin, i.e., the distance between the hyperplane and the nearest data points from each class, known as support vectors.\n",
        "\n",
        "Kernel Trick: In cases where the classes are not linearly separable in the original feature space, SVMs can use a kernel function to map the input features into a higher-dimensional space where linear separation is possible. Common kernel functions include linear, polynomial, radial basis function (RBF), and sigmoid. The choice of kernel function and its parameters significantly impact the performance of the SVM.\n",
        "\n",
        "Margin Maximization: SVM aims to find the hyperplane that maximizes the margin between the classes. This ensures better generalization to unseen data and improves the robustness of the classifier. Support vectors, which are the data points closest to the decision boundary, play a crucial role in determining the margin and defining the hyperplane.\n",
        "\n",
        "Regularization Parameter: SVMs also incorporate a regularization parameter (C) that controls the trade-off between maximizing the margin and minimizing the classification error. A smaller value of C leads to a wider margin but may result in misclassification of some training examples, while a larger value of C allows for fewer misclassifications but may lead to overfitting.\n",
        "\n",
        "Decision Function: Once the hyperplane is determined, SVM classifies new data points by computing their distance from the hyperplane. If the distance is positive, the data point belongs to one class; if it is negative, it belongs to the other class.\n",
        "\n",
        "Overall, SVMs are versatile and powerful classifiers that can handle both linear and nonlinear classification tasks. They are widely used in various applications, including text classification, image recognition, bioinformatics, and finance. However, SVMs can be sensitive to the choice of kernel function and its parameters, and they may require careful tuning for optimal performance."
      ],
      "metadata": {
        "id": "Hkg75SvNo-63"
      }
    },
    {
      "cell_type": "markdown",
      "source": [
        "***Why Support vector machine***\n",
        "Strengths: Effective in high-dimensional spaces, versatile with different kernel functions, robust to overfitting.\n",
        "Weaknesses: Computationally intensive for large datasets, sensitive to choice of kernel parameters."
      ],
      "metadata": {
        "id": "h3T0NhilpmlA"
      }
    },
    {
      "cell_type": "markdown",
      "source": [
        "Accordingly the gamma is a parameter which ranges from 0 to 1.A higher value of gamma will perfectly fit the training detset which causes overfit Gamma=0.1 is considered to be a good default value. The value of gamma needs to be manually specified in the learning algorithm."
      ],
      "metadata": {
        "id": "e3q2CDHu5jIh"
      }
    },
    {
      "cell_type": "code",
      "source": [
        "# Step 1: Split data into training and testing sets\n",
        "from sklearn.model_selection import train_test_split\n",
        "x_train, x_test, y_train, y_test = train_test_split(data, labels, test_size=0.2, shuffle=True, stratify=labels) #a variation of k-fold which returns stratified folds: each set contains approximately the same percentage of samples of each target class as the complete set\n",
        "#Stratify is needed as the dataset is imbalanced to ensurethat the distribution of classes in the training and testing sets is similar to the distribution in the original dataset\n",
        "\n"
      ],
      "metadata": {
        "id": "oe5rnoC3YEUY"
      },
      "execution_count": null,
      "outputs": []
    },
    {
      "cell_type": "code",
      "source": [
        " #Step 2: Perform Grid Search for hyperparameters\n",
        " #: Perform a grid search over a range of hyperparameters for the RBF kernel, such as the regularization parameter\n",
        " # Like C and gamma kernel.Vary these parameters over a predefined range and use cross-validation to find the combination that yields the best performance.\n",
        "\n",
        "from sklearn.model_selection import train_test_split, cross_val_score, GridSearchCV\n",
        "from sklearn.svm import SVC\n",
        "param_grid = {'C': [0.1, 1, 10, 100], 'gamma': [0.001, 0.01, 0.1, 1]}\n",
        "grid_search = GridSearchCV(SVC(kernel='rbf'), param_grid, cv=5)\n",
        "grid_search.fit(x_train, y_train)\n",
        "\n",
        "best_params = grid_search.best_params_\n",
        "print(\"Best Parameters:\", best_params)\n"
      ],
      "metadata": {
        "colab": {
          "base_uri": "https://localhost:8080/"
        },
        "id": "Z2bonVW4Z6KW",
        "outputId": "b0527d38-7a33-4f8e-f5dd-db29b7e1aefb"
      },
      "execution_count": null,
      "outputs": [
        {
          "output_type": "stream",
          "name": "stdout",
          "text": [
            "Best Parameters: {'C': 100, 'gamma': 0.001}\n"
          ]
        }
      ]
    },
    {
      "cell_type": "code",
      "source": [
        "# Step 3: Assess model performance using Cross-Validation\n",
        "\n",
        "\n",
        "svm_model = SVC(kernel='rbf', C=best_params['C'], gamma=best_params['gamma'])\n",
        "cv_scores = cross_val_score(svm_model, x_train, y_train, cv=5)\n",
        "print(\"Cross-Validation Scores:\", cv_scores)\n",
        "print(\"Mean CV Score:\", np.mean(cv_scores))"
      ],
      "metadata": {
        "colab": {
          "base_uri": "https://localhost:8080/"
        },
        "id": "xKQlAW2dacZj",
        "outputId": "4581137c-19c9-4885-9342-fc20b6cd9deb"
      },
      "execution_count": null,
      "outputs": [
        {
          "output_type": "stream",
          "name": "stdout",
          "text": [
            "Cross-Validation Scores: [0.375      1.         0.85714286 0.57142857 0.85714286]\n",
            "Mean CV Score: 0.7321428571428572\n"
          ]
        }
      ]
    },
    {
      "cell_type": "markdown",
      "source": [
        "According to these results the output tells us that:  \n",
        "Here's what each value signifies:\n",
        "\n",
        "The first fold achieved an accuracy of 37.5%.\n",
        "\n",
        "\n",
        "The second fold achieved an accuracy of approximately 100%.\n",
        "\n",
        "The third fold achieved an accuracy of approximately 85.7%.\n",
        "\n",
        "The fourth fold achieved an accuracy of approximately 57.14%.\n",
        "\n",
        "The fifth fold achieved an accuracy of approximately 85.71%.\n",
        "\n",
        "The Mean CV Score, calculated as the average of these scores, is\n",
        "0.73\n",
        "\n",
        "which means the average accuracy across all folds is 73%.\n",
        "\n",
        "These results provide insight into the stability and generalization performance of your model. In this case, the model seems to have varying performance across different folds, with the mean accuracy being 70%. Further analysis may be needed to understand why the performance varies and how it can be improved."
      ],
      "metadata": {
        "id": "m1BnwGzGcJEq"
      }
    },
    {
      "cell_type": "markdown",
      "source": [],
      "metadata": {
        "id": "LQNPFZCCcT2B"
      }
    },
    {
      "cell_type": "code",
      "source": [
        "from sklearn.metrics import confusion_matrix, classification_report, roc_curve, auc\n",
        "import matplotlib.pyplot as plt\n",
        "# Step 4: Evaluate on the test set\n",
        "svm_model.fit(x_train, y_train)\n",
        "y_pred = svm_model.predict(x_test)\n",
        "\n",
        "# Step 5: Confusion Matrix and Classification Report\n",
        "conf_matrix = confusion_matrix(y_test, y_pred)\n",
        "class_report = classification_report(y_test, y_pred)\n",
        "print(\"Confusion Matrix:\\n\", conf_matrix)\n",
        "print(\"Classification Report:\\n\", class_report)"
      ],
      "metadata": {
        "colab": {
          "base_uri": "https://localhost:8080/"
        },
        "id": "9X23el3Mdcbh",
        "outputId": "9d1f48ba-cf53-4e26-aaa2-43eb5d035962"
      },
      "execution_count": null,
      "outputs": [
        {
          "output_type": "stream",
          "name": "stdout",
          "text": [
            "Confusion Matrix:\n",
            " [[5 0 1]\n",
            " [2 0 0]\n",
            " [0 0 2]]\n",
            "Classification Report:\n",
            "               precision    recall  f1-score   support\n",
            "\n",
            "           0       0.71      0.83      0.77         6\n",
            "           1       0.00      0.00      0.00         2\n",
            "           2       0.67      1.00      0.80         2\n",
            "\n",
            "    accuracy                           0.70        10\n",
            "   macro avg       0.46      0.61      0.52        10\n",
            "weighted avg       0.56      0.70      0.62        10\n",
            "\n"
          ]
        },
        {
          "output_type": "stream",
          "name": "stderr",
          "text": [
            "/usr/local/lib/python3.10/dist-packages/sklearn/metrics/_classification.py:1344: UndefinedMetricWarning: Precision and F-score are ill-defined and being set to 0.0 in labels with no predicted samples. Use `zero_division` parameter to control this behavior.\n",
            "  _warn_prf(average, modifier, msg_start, len(result))\n",
            "/usr/local/lib/python3.10/dist-packages/sklearn/metrics/_classification.py:1344: UndefinedMetricWarning: Precision and F-score are ill-defined and being set to 0.0 in labels with no predicted samples. Use `zero_division` parameter to control this behavior.\n",
            "  _warn_prf(average, modifier, msg_start, len(result))\n",
            "/usr/local/lib/python3.10/dist-packages/sklearn/metrics/_classification.py:1344: UndefinedMetricWarning: Precision and F-score are ill-defined and being set to 0.0 in labels with no predicted samples. Use `zero_division` parameter to control this behavior.\n",
            "  _warn_prf(average, modifier, msg_start, len(result))\n"
          ]
        }
      ]
    },
    {
      "cell_type": "markdown",
      "source": [
        "The confusion matrix you provided can be interpreted as follows:\n",
        "\n",
        "Actual class 0: There are 5 instances correctly classified as class 0 (true negatives), and 1 instance incorrectly classified as class 2 (false negative).\n",
        "Actual class 1: There are 2 instances incorrectly classified as class 0 (false positive), and 0 instances correctly classified as class 1.\n",
        "Actual class 2: There are 2 instances correctly classified as class 2 (true positives), and 0 instances incorrectly classified as class 0 or class 1."
      ],
      "metadata": {
        "id": "GCldRk86e_7z"
      }
    },
    {
      "cell_type": "code",
      "source": [
        "import numpy as np\n",
        "import seaborn as sns\n",
        "import matplotlib.pyplot as plt\n",
        "\n",
        "# Confusion matrix data\n",
        "conf_matrix = np.array([[5, 0, 1],\n",
        "                        [2, 0, 0],\n",
        "                        [0, 0, 2]])\n",
        "\n",
        "\n",
        "# Plot confusion matrix as heatmap\n",
        "plt.figure(figsize=(8, 6))\n",
        "sns.heatmap(conf_matrix, annot=True, cmap='Blues', fmt='d', xticklabels=['Class 0', 'Class 1', 'Class 2'], yticklabels=['Class 0', 'Class 1', 'Class 2'])\n",
        "plt.xlabel('Predicted Label')\n",
        "plt.ylabel('True Label')\n",
        "plt.title('Confusion Matrix')\n",
        "plt.show()"
      ],
      "metadata": {
        "colab": {
          "base_uri": "https://localhost:8080/",
          "height": 564
        },
        "id": "tkI6ZAFmfVuV",
        "outputId": "5a650b31-7b27-408c-cf10-8e00caffbaa4"
      },
      "execution_count": null,
      "outputs": [
        {
          "output_type": "display_data",
          "data": {
            "text/plain": [
              "<Figure size 800x600 with 2 Axes>"
            ],
            "image/png": "[encoded data removed]"
          },
          "metadata": {}
        }
      ]
    },
    {
      "cell_type": "code",
      "source": [
        "#Fine tuning our model\n",
        "#In this code block there will be a trial for fine tuning our model as there is an imbalance working with dataets one approach is\n",
        "# to oversample the minority class\n",
        "#One technique to be used is Synthetic Minority over sampling technqiue\n",
        "# Instantiate SMOTE\n",
        "from imblearn.over_sampling import SMOTE\n",
        "\n",
        "smote = SMOTE(sampling_strategy='minority',random_state=42)\n",
        "\n",
        "# Apply SMOTE to the training data\n",
        "X_train_resampled, y_train_resampled = smote.fit_resample(x_train, y_train)\n",
        "y_train_resampled.shape"
      ],
      "metadata": {
        "id": "e65pGe0ff1JB",
        "colab": {
          "base_uri": "https://localhost:8080/"
        },
        "outputId": "68cdba20-bf5f-4ef2-f003-ecc2ea4977ee"
      },
      "execution_count": null,
      "outputs": [
        {
          "output_type": "execute_result",
          "data": {
            "text/plain": [
              "(53,)"
            ]
          },
          "metadata": {},
          "execution_count": 18
        }
      ]
    },
    {
      "cell_type": "code",
      "source": [
        "# Step 4: Evaluate on the test set\n",
        "svm_model.fit(X_train_resampled, y_train_resampled)\n",
        "y_pred = svm_model.predict(x_test)\n",
        "\n",
        "# Step 5: Confusion Matrix and Classification Report\n",
        "conf_matrix = confusion_matrix(y_test, y_pred)\n",
        "class_report = classification_report(y_test, y_pred)\n",
        "print(\"Confusion Matrix:\\n\", conf_matrix)\n",
        "print(\"Classification Report:\\n\", class_report)"
      ],
      "metadata": {
        "colab": {
          "base_uri": "https://localhost:8080/"
        },
        "id": "YopswFN6h7VG",
        "outputId": "61e7a3b7-b0fb-48f4-b69b-e7619963fd52"
      },
      "execution_count": null,
      "outputs": [
        {
          "output_type": "stream",
          "name": "stdout",
          "text": [
            "Confusion Matrix:\n",
            " [[6 0 0]\n",
            " [2 0 0]\n",
            " [1 0 1]]\n",
            "Classification Report:\n",
            "               precision    recall  f1-score   support\n",
            "\n",
            "           0       0.67      1.00      0.80         6\n",
            "           1       0.00      0.00      0.00         2\n",
            "           2       1.00      0.50      0.67         2\n",
            "\n",
            "    accuracy                           0.70        10\n",
            "   macro avg       0.56      0.50      0.49        10\n",
            "weighted avg       0.60      0.70      0.61        10\n",
            "\n"
          ]
        },
        {
          "output_type": "stream",
          "name": "stderr",
          "text": [
            "/usr/local/lib/python3.10/dist-packages/sklearn/metrics/_classification.py:1344: UndefinedMetricWarning: Precision and F-score are ill-defined and being set to 0.0 in labels with no predicted samples. Use `zero_division` parameter to control this behavior.\n",
            "  _warn_prf(average, modifier, msg_start, len(result))\n",
            "/usr/local/lib/python3.10/dist-packages/sklearn/metrics/_classification.py:1344: UndefinedMetricWarning: Precision and F-score are ill-defined and being set to 0.0 in labels with no predicted samples. Use `zero_division` parameter to control this behavior.\n",
            "  _warn_prf(average, modifier, msg_start, len(result))\n",
            "/usr/local/lib/python3.10/dist-packages/sklearn/metrics/_classification.py:1344: UndefinedMetricWarning: Precision and F-score are ill-defined and being set to 0.0 in labels with no predicted samples. Use `zero_division` parameter to control this behavior.\n",
            "  _warn_prf(average, modifier, msg_start, len(result))\n"
          ]
        }
      ]
    },
    {
      "cell_type": "markdown",
      "source": [
        "After applying SMOTE there is an enhancment in class 2 after applying SMOTE as misclassification reduced from 2 to 1.Moreover from the classification report point of view Comparing the two reports:\n",
        "\n",
        "Accuracy: The accuracy in the first report (0.70) is higher than in the second report (0.60). Higher accuracy generally indicates better overall performance, but accuracy alone may not be sufficient, especially in the presence of class imbalance.\n",
        "\n",
        "Precision, Recall, F1-score: In the first report, Class 0 has higher precision, recall, and F1-score compared to the second report. Additionally, Class 2 has a higher precision and F1-score in the first report. However, Class 1 has a recall of 0 in both reports, indicating that it's not being predicted correctly.\n",
        "\n",
        "Support: The number of instances (support) for each class is the same in both reports.\n",
        "\n",
        "Considering these factors, the first classification report (Report 1) seems to be better overall, as it has higher accuracy and better precision, recall, and F1-scores for Classes 0 and 2. However, it's crucial to further investigate and potentially address the issues with Class 1, which has a recall of 0 in both reports."
      ],
      "metadata": {
        "id": "F4Xy4wq1kvH8"
      }
    },
    {
      "cell_type": "code",
      "source": [
        "from sklearn.metrics import accuracy_score\n",
        "score = accuracy_score(y_pred, y_test)\n",
        "print('{}% of samples were correctly classified'.format(str(score * 100)))"
      ],
      "metadata": {
        "colab": {
          "base_uri": "https://localhost:8080/"
        },
        "id": "zofT_XBimD-0",
        "outputId": "b7d0162f-4bd4-4d50-e475-de9d706262a0"
      },
      "execution_count": null,
      "outputs": [
        {
          "output_type": "stream",
          "name": "stdout",
          "text": [
            "70.0% of samples were correctly classified\n"
          ]
        }
      ]
    },
    {
      "cell_type": "markdown",
      "source": [
        "\n",
        "![Capture.PNG](data:image/png;base64,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)"
      ],
      "metadata": {
        "id": "GFAfwEstXp4D"
      }
    },
    {
      "cell_type": "markdown",
      "source": [
        "Random forrest\n",
        "A random forest is a supervised machine learning algorithm that is constructed from decision tree algorithms. This algorithm is applied in various industries such as banking and e-commerce to predict behavior and outcomes. A random forest is a machine learning technique that’s used to solve regression and classification problems. It utilizes ensemble learning, which is a technique that combines many classifiers to provide solutions to complex problems.\n",
        "\n",
        "A random forest algorithm consists of many decision trees. The ‘forest’ generated by the random forest algorithm is trained through bagging or bootstrap aggregating. Bagging is an ensemble meta-algorithm that improves the accuracy of machine learning algorithms.\n"
      ],
      "metadata": {
        "id": "eecjsAoYtG5D"
      }
    },
    {
      "cell_type": "markdown",
      "source": [],
      "metadata": {
        "id": "gfclOgpK5BS4"
      }
    },
    {
      "cell_type": "markdown",
      "source": [
        "# Training Random Forest\n"
      ],
      "metadata": {
        "id": "ebXPYjMqucBa"
      }
    },
    {
      "cell_type": "markdown",
      "source": [
        "n_estimators: the number of decision trees in the forest. Increasing this hyperparameter generally improves the performance of the model but also increases the computational cost of training and predicting.\n",
        "\n",
        "max_depth: the maximum depth of each decision tree in the forest. Setting a higher value for max_depth can lead to overfitting while setting it too low can lead to underfitting.\n",
        "\n",
        "RandomSearch Cv is used to explore randomly sampling conditions in this stage"
      ],
      "metadata": {
        "id": "L9B79qjqwwAc"
      }
    },
    {
      "cell_type": "code",
      "source": [
        "from sklearn.ensemble import RandomForestClassifier\n",
        "from sklearn.model_selection import RandomizedSearchCV\n",
        "from scipy.stats import randint\n",
        "# First tune the hyperparameters of the random forest\n",
        "rf_classifier = RandomForestClassifier(random_state=42)\n",
        "param_dist = {'n_estimators': randint(50,500),\n",
        "              'max_depth': randint(1,20)}\n",
        "rand_search = RandomizedSearchCV(rf_classifier,\n",
        "                                 param_distributions = param_dist,\n",
        "                                 n_iter=100,\n",
        "                                 cv=5)\n",
        "rand_search.fit(X_train_resampled, y_train_resampled)\n"
      ],
      "metadata": {
        "colab": {
          "base_uri": "https://localhost:8080/",
          "height": 118
        },
        "id": "y2N5M61Uu273",
        "outputId": "10663459-6539-40b2-c141-618273a5856d"
      },
      "execution_count": null,
      "outputs": [
        {
          "output_type": "execute_result",
          "data": {
            "text/plain": [
              "RandomizedSearchCV(cv=5, estimator=RandomForestClassifier(random_state=42),\n",
              "                   n_iter=100,\n",
              "                   param_distributions={'max_depth': <scipy.stats._distn_infrastructure.rv_discrete_frozen object at 0x79b73276a3e0>,\n",
              "                                        'n_estimators': <scipy.stats._distn_infrastructure.rv_discrete_frozen object at 0x79b7332bba30>})"
            ],
            "text/html": [
              "<style>#sk-container-id-1 {color: black;background-color: white;}#sk-container-id-1 pre{padding: 0;}#sk-container-id-1 div.sk-toggleable {background-color: white;}#sk-container-id-1 label.sk-toggleable__label {cursor: pointer;display: block;width: 100%;margin-bottom: 0;padding: 0.3em;box-sizing: border-box;text-align: center;}#sk-container-id-1 label.sk-toggleable__label-arrow:before {content: \"▸\";float: left;margin-right: 0.25em;color: #696969;}#sk-container-id-1 label.sk-toggleable__label-arrow:hover:before {color: black;}#sk-container-id-1 div.sk-estimator:hover label.sk-toggleable__label-arrow:before {color: black;}#sk-container-id-1 div.sk-toggleable__content {max-height: 0;max-width: 0;overflow: hidden;text-align: left;background-color: #f0f8ff;}#sk-container-id-1 div.sk-toggleable__content pre {margin: 0.2em;color: black;border-radius: 0.25em;background-color: #f0f8ff;}#sk-container-id-1 input.sk-toggleable__control:checked~div.sk-toggleable__content {max-height: 200px;max-width: 100%;overflow: auto;}#sk-container-id-1 input.sk-toggleable__control:checked~label.sk-toggleable__label-arrow:before {content: \"▾\";}#sk-container-id-1 div.sk-estimator input.sk-toggleable__control:checked~label.sk-toggleable__label {background-color: #d4ebff;}#sk-container-id-1 div.sk-label input.sk-toggleable__control:checked~label.sk-toggleable__label {background-color: #d4ebff;}#sk-container-id-1 input.sk-hidden--visually {border: 0;clip: rect(1px 1px 1px 1px);clip: rect(1px, 1px, 1px, 1px);height: 1px;margin: -1px;overflow: hidden;padding: 0;position: absolute;width: 1px;}#sk-container-id-1 div.sk-estimator {font-family: monospace;background-color: #f0f8ff;border: 1px dotted black;border-radius: 0.25em;box-sizing: border-box;margin-bottom: 0.5em;}#sk-container-id-1 div.sk-estimator:hover {background-color: #d4ebff;}#sk-container-id-1 div.sk-parallel-item::after {content: \"\";width: 100%;border-bottom: 1px solid gray;flex-grow: 1;}#sk-container-id-1 div.sk-label:hover label.sk-toggleable__label {background-color: #d4ebff;}#sk-container-id-1 div.sk-serial::before {content: \"\";position: absolute;border-left: 1px solid gray;box-sizing: border-box;top: 0;bottom: 0;left: 50%;z-index: 0;}#sk-container-id-1 div.sk-serial {display: flex;flex-direction: column;align-items: center;background-color: white;padding-right: 0.2em;padding-left: 0.2em;position: relative;}#sk-container-id-1 div.sk-item {position: relative;z-index: 1;}#sk-container-id-1 div.sk-parallel {display: flex;align-items: stretch;justify-content: center;background-color: white;position: relative;}#sk-container-id-1 div.sk-item::before, #sk-container-id-1 div.sk-parallel-item::before {content: \"\";position: absolute;border-left: 1px solid gray;box-sizing: border-box;top: 0;bottom: 0;left: 50%;z-index: -1;}#sk-container-id-1 div.sk-parallel-item {display: flex;flex-direction: column;z-index: 1;position: relative;background-color: white;}#sk-container-id-1 div.sk-parallel-item:first-child::after {align-self: flex-end;width: 50%;}#sk-container-id-1 div.sk-parallel-item:last-child::after {align-self: flex-start;width: 50%;}#sk-container-id-1 div.sk-parallel-item:only-child::after {width: 0;}#sk-container-id-1 div.sk-dashed-wrapped {border: 1px dashed gray;margin: 0 0.4em 0.5em 0.4em;box-sizing: border-box;padding-bottom: 0.4em;background-color: white;}#sk-container-id-1 div.sk-label label {font-family: monospace;font-weight: bold;display: inline-block;line-height: 1.2em;}#sk-container-id-1 div.sk-label-container {text-align: center;}#sk-container-id-1 div.sk-container {/* jupyter's `normalize.less` sets `[hidden] { display: none; }` but bootstrap.min.css set `[hidden] { display: none !important; }` so we also need the `!important` here to be able to override the default hidden behavior on the sphinx rendered scikit-learn.org. See: https://github.com/scikit-learn/scikit-learn/issues/21755 */display: inline-block !important;position: relative;}#sk-container-id-1 div.sk-text-repr-fallback {display: none;}</style><div id=\"sk-container-id-1\" class=\"sk-top-container\"><div class=\"sk-text-repr-fallback\"><pre>RandomizedSearchCV(cv=5, estimator=RandomForestClassifier(random_state=42),\n",
              "                   n_iter=100,\n",
              "                   param_distributions={&#x27;max_depth&#x27;: &lt;scipy.stats._distn_infrastructure.rv_discrete_frozen object at 0x79b73276a3e0&gt;,\n",
              "                                        &#x27;n_estimators&#x27;: &lt;scipy.stats._distn_infrastructure.rv_discrete_frozen object at 0x79b7332bba30&gt;})</pre><b>In a Jupyter environment, please rerun this cell to show the HTML representation or trust the notebook. <br />On GitHub, the HTML representation is unable to render, please try loading this page with nbviewer.org.</b></div><div class=\"sk-container\" hidden><div class=\"sk-item sk-dashed-wrapped\"><div class=\"sk-label-container\"><div class=\"sk-label sk-toggleable\"><input class=\"sk-toggleable__control sk-hidden--visually\" id=\"sk-estimator-id-1\" type=\"checkbox\" ><label for=\"sk-estimator-id-1\" class=\"sk-toggleable__label sk-toggleable__label-arrow\">RandomizedSearchCV</label><div class=\"sk-toggleable__content\"><pre>RandomizedSearchCV(cv=5, estimator=RandomForestClassifier(random_state=42),\n",
              "                   n_iter=100,\n",
              "                   param_distributions={&#x27;max_depth&#x27;: &lt;scipy.stats._distn_infrastructure.rv_discrete_frozen object at 0x79b73276a3e0&gt;,\n",
              "                                        &#x27;n_estimators&#x27;: &lt;scipy.stats._distn_infrastructure.rv_discrete_frozen object at 0x79b7332bba30&gt;})</pre></div></div></div><div class=\"sk-parallel\"><div class=\"sk-parallel-item\"><div class=\"sk-item\"><div class=\"sk-label-container\"><div class=\"sk-label sk-toggleable\"><input class=\"sk-toggleable__control sk-hidden--visually\" id=\"sk-estimator-id-2\" type=\"checkbox\" ><label for=\"sk-estimator-id-2\" class=\"sk-toggleable__label sk-toggleable__label-arrow\">estimator: RandomForestClassifier</label><div class=\"sk-toggleable__content\"><pre>RandomForestClassifier(random_state=42)</pre></div></div></div><div class=\"sk-serial\"><div class=\"sk-item\"><div class=\"sk-estimator sk-toggleable\"><input class=\"sk-toggleable__control sk-hidden--visually\" id=\"sk-estimator-id-3\" type=\"checkbox\" ><label for=\"sk-estimator-id-3\" class=\"sk-toggleable__label sk-toggleable__label-arrow\">RandomForestClassifier</label><div class=\"sk-toggleable__content\"><pre>RandomForestClassifier(random_state=42)</pre></div></div></div></div></div></div></div></div></div></div>"
            ]
          },
          "metadata": {},
          "execution_count": 10
        }
      ]
    },
    {
      "cell_type": "code",
      "source": [
        "best_params = rand_search.best_params_\n",
        "best_accuracy = rand_search.best_score_\n",
        "\n",
        "# Print the best parameters and best accuracy\n",
        "print(\"Best Parameters:\", best_params)\n",
        "print(\"Best Accuracy:\", best_accuracy)"
      ],
      "metadata": {
        "colab": {
          "base_uri": "https://localhost:8080/"
        },
        "id": "vnxpaH3S1CUz",
        "outputId": "642681b8-09bf-4df2-b9fb-b24cfdfa6f87"
      },
      "execution_count": null,
      "outputs": [
        {
          "output_type": "stream",
          "name": "stdout",
          "text": [
            "Best Parameters: {'max_depth': 19, 'n_estimators': 237}\n",
            "Best Accuracy: 0.9054545454545455\n"
          ]
        }
      ]
    },
    {
      "cell_type": "markdown",
      "source": [
        "The model showed enhancements for depth 17 and n_estimators of 108 with accuracy almost 90.5%"
      ],
      "metadata": {
        "id": "Dkh_WCZC2bl0"
      }
    },
    {
      "cell_type": "markdown",
      "source": [
        "#Data Augmentation for image\n"
      ],
      "metadata": {
        "id": "9zxT83mSyFeX"
      }
    },
    {
      "cell_type": "markdown",
      "source": [
        "Data augmentation is a technique of artificially increasing the training set by creating modified copies of a dataset using existing data. It includes making minor changes to the dataset or using deep learning to generate new data points.  \n",
        "Augmented data is driven from original data with some minor changes. In the case of image augmentation, we make geometric and color space transformations (flipping, resizing, cropping, brightness, contrast) to increase the size and diversity of the training set.\n",
        "\n",
        "When Should You Use Data Augmentation?  \n",
        "\n",
        "*To prevent models from overfitting.\n",
        "\n",
        "*The initial training set is too small.\n",
        "\n",
        "*To improve the model accuracy.\n",
        "\n",
        "*To Reduce the operational cost of labeling and cleaning the raw dataset.\n",
        "Limitations of Data Augmentation\n",
        "\n",
        "*The biases in the original dataset persist in the augmented data.\n",
        "\n",
        "*Quality assurance for data augmentation is expensive.\n",
        "\n",
        "\n",
        "Research and development are required to build a system with advanced applications.\n",
        " For example, generating high-resolution images using GANs can be challenging.\n",
        "\n",
        "Finding an effective data augmentation approach can be challenging."
      ],
      "metadata": {
        "id": "RtrP8GAqy0EI"
      }
    },
    {
      "cell_type": "markdown",
      "source": [
        "#Image Augmentation"
      ],
      "metadata": {
        "id": "fmN1xO1pzvXN"
      }
    },
    {
      "cell_type": "markdown",
      "source": [
        "Geometric transformations: randomly flip, crop, rotate, stretch, and zoom images. You need to be careful about applying multiple transformations on the same images, as this can reduce model performance.\n",
        "\n",
        "Color space transformations: randomly change RGB color channels, contrast, and brightness.\n",
        "\n",
        "Kernel filters: randomly change the sharpness or blurring of the image.\n",
        "\n",
        "Random erasing: delete some part of the initial image.\n",
        "\n",
        "Mixing images: blending and mixing multiple images."
      ],
      "metadata": {
        "id": "vNyOg3Fuz6m1"
      }
    },
    {
      "cell_type": "code",
      "source": [
        "import numpy as np\n",
        "import matplotlib.pyplot as plt\n",
        "\n",
        "# Assuming X_train_resampled contains your image data\n",
        "# Reshape X_train_resampled if necessary (assuming it's a 4D array with shape (samples, height, width, channels))\n",
        "# If not, adjust the shape accordingly.\n",
        "\n",
        "# Choose a random subset of images for visualization\n",
        "num_samples_to_visualize = 5\n",
        "sample_indices = np.random.choice(len(X_train_resampled), num_samples_to_visualize, replace=False)\n",
        "\n",
        "# Visualize the selected samples\n",
        "#plt.figure(figsize=(10, 5))\n",
        "#for i, idx in enumerate(sample_indices):\n",
        "   # plt.subplot(1, num_samples_to_visualize, i + 1)\n",
        "   # plt.imshow(X_train_resampled[idx])  # Assuming X_train_resampled contains image data\n",
        "   # plt.title(f'Sample {idx}')\n",
        "   # plt.axis('off')\n",
        "#plt.show()\n",
        "\n",
        "# Print the shapes of the selected samples\n",
        "for idx in sample_indices:\n",
        "    print(f'Sample {idx} shape: {X_train_resampled[idx].shape}')\n",
        "import numpy as np\n",
        "\n",
        "# Calculate the side length of the square image\n",
        "total_elements = 35775    # Replace with the actual total number of elements in your flattened image\n",
        "side_length = int(np.sqrt(total_elements))\n",
        "\n",
        "# Display the calculated side length\n",
        "print(f\"Estimated side length of the square image: {side_length}\")\n",
        "\n",
        "# Determine the suitable height and width\n",
        "height = 25\n",
        "width = 27\n",
        "\n",
        "# Display the determined height and width\n",
        "print(f\"Suitable height: {height}, width: {width}\")\n",
        "X_train_reshaped = X_train_resampled.reshape(X_train_resampled.shape[0], height, width, 1)\n",
        "\n"
      ],
      "metadata": {
        "colab": {
          "base_uri": "https://localhost:8080/"
        },
        "id": "rJ2BvaAf-HZY",
        "outputId": "7f46ee0f-eaa9-419f-9d16-3f5df871fdd7"
      },
      "execution_count": null,
      "outputs": [
        {
          "output_type": "stream",
          "name": "stdout",
          "text": [
            "Sample 35 shape: (675,)\n",
            "Sample 33 shape: (675,)\n",
            "Sample 34 shape: (675,)\n",
            "Sample 1 shape: (675,)\n",
            "Sample 52 shape: (675,)\n",
            "Estimated side length of the square image: 189\n",
            "Suitable height: 25, width: 27\n"
          ]
        }
      ]
    },
    {
      "cell_type": "code",
      "source": [
        "# Define data augmentation parameters\n",
        "from tensorflow.keras.preprocessing.image import ImageDataGenerator\n",
        "datagen = ImageDataGenerator(\n",
        "    rotation_range=20,      # randomly rotate images in the range (degrees, 0 to 180)\n",
        "    width_shift_range=0.1,  # randomly shift images horizontally (fraction of total width)\n",
        "    height_shift_range=0.1, # randomly shift images vertically (fraction of total height)\n",
        "    shear_range=0.2,        # shear intensity (shear angle in counter-clockwise direction in degrees)\n",
        "    zoom_range=0.2,         # randomly zoom in/out on images\n",
        "    horizontal_flip=True,   # randomly flip images horizontally\n",
        "    fill_mode='nearest'     # fill mode for points outside the input boundaries\n",
        ")"
      ],
      "metadata": {
        "id": "OY3oWdStKs2P"
      },
      "execution_count": null,
      "outputs": []
    },
    {
      "cell_type": "markdown",
      "source": [
        "Our model will use Convolutional layer in Neural Network  particularly in convolutional neural networks (CNNs).First our Model used activation function relu to begin with where there is other activation function that would be fit in our model Leaky ReLU, Parametric ReLU (PReLU), and Exponential Linear Unit (ELU). Pooling layer downsampling feature maps, reducing spatial dimensions, and extracting dominant features. For our problems  the input feature maps will be downsampled by a factor of 2 along both the height and width dimensions. Each 2x2 region of the input feature map will be reduced to a single maximum value, resulting in a downscaled feature map."
      ],
      "metadata": {
        "id": "2vvjM-4BKsjT"
      }
    },
    {
      "cell_type": "code",
      "source": [
        "# Define CNN model architecture\n",
        "from tensorflow.keras.models import Sequential\n",
        "from tensorflow.keras.layers import Conv2D, MaxPooling2D, Flatten, Dense, Dropout\n",
        "model = Sequential([\n",
        "    Conv2D(32, (3, 3), activation='relu', input_shape=(25, 27, 1)),\n",
        "    MaxPooling2D((2, 2)),\n",
        "    Conv2D(64, (3, 3), activation='relu'),\n",
        "    MaxPooling2D((2, 2)),\n",
        "    Conv2D(128, (3, 3), activation='relu'),\n",
        "    MaxPooling2D((2, 2)),\n",
        "    Flatten(),\n",
        "    Dense(512, activation='relu'),\n",
        "    Dropout(0.5),\n",
        "    Dense(3, activation='softmax')\n",
        "])"
      ],
      "metadata": {
        "id": "6VunUZf-LENg"
      },
      "execution_count": null,
      "outputs": []
    },
    {
      "cell_type": "code",
      "source": [
        "model.compile(optimizer='adam',\n",
        "              loss='sparse_categorical_crossentropy',\n",
        "              metrics=['accuracy'])\n",
        "\n",
        "# Train the model with data augmentation\n",
        "datagen.fit(X_train_reshaped)\n"
      ],
      "metadata": {
        "id": "LxsiYFLyLYAJ"
      },
      "execution_count": null,
      "outputs": []
    },
    {
      "cell_type": "code",
      "source": [
        "\n",
        "model.fit(datagen.flow(X_train_reshaped, y_train_resampled, batch_size=32),\n",
        "          steps_per_epoch=len(X_train_reshaped) / 32,\n",
        "          epochs=10)"
      ],
      "metadata": {
        "colab": {
          "base_uri": "https://localhost:8080/"
        },
        "id": "VVsWQHUCLkxw",
        "outputId": "cf3a6998-c262-4c82-99d2-be22e5e1fae3"
      },
      "execution_count": null,
      "outputs": [
        {
          "output_type": "stream",
          "name": "stdout",
          "text": [
            "Epoch 1/10\n",
            "1/1 [==============================] - 0s 207ms/step - loss: 6.4017 - accuracy: 0.4717\n",
            "Epoch 2/10\n",
            "1/1 [==============================] - 1s 349ms/step - loss: 4.1932 - accuracy: 0.2642\n",
            "Epoch 3/10\n",
            "1/1 [==============================] - 1s 289ms/step - loss: 4.0037 - accuracy: 0.3396\n",
            "Epoch 4/10\n",
            "1/1 [==============================] - 0s 218ms/step - loss: 2.7736 - accuracy: 0.4340\n",
            "Epoch 5/10\n",
            "1/1 [==============================] - 1s 347ms/step - loss: 1.8744 - accuracy: 0.3774\n",
            "Epoch 6/10\n",
            "1/1 [==============================] - 0s 234ms/step - loss: 2.0350 - accuracy: 0.4151\n",
            "Epoch 7/10\n",
            "1/1 [==============================] - 0s 215ms/step - loss: 1.7517 - accuracy: 0.3585\n",
            "Epoch 8/10\n",
            "1/1 [==============================] - 0s 213ms/step - loss: 1.5114 - accuracy: 0.4151\n",
            "Epoch 9/10\n",
            "1/1 [==============================] - 0s 116ms/step - loss: 1.2293 - accuracy: 0.4151\n",
            "Epoch 10/10\n",
            "1/1 [==============================] - 0s 127ms/step - loss: 1.3971 - accuracy: 0.3396\n"
          ]
        },
        {
          "output_type": "execute_result",
          "data": {
            "text/plain": [
              "<keras.src.callbacks.History at 0x785d1a018280>"
            ]
          },
          "metadata": {},
          "execution_count": 40
        }
      ]
    },
    {
      "cell_type": "markdown",
      "source": [],
      "metadata": {
        "id": "QcTbRoypLXAi"
      }
    },
    {
      "cell_type": "code",
      "source": [
        "from tensorflow.keras.models import Sequential\n",
        "from tensorflow.keras.layers import Conv2D, MaxPooling2D, Flatten, Dense, Dropout\n",
        "from tensorflow.keras.optimizers import Adam\n",
        "from tensorflow.keras.callbacks import LearningRateScheduler\n",
        "from tensorflow.keras.optimizers import RMSprop, SGD, Nadam\n",
        "\n",
        "# Define a more aggressive learning rate scheduler\n",
        "def lr_scheduler(epoch, lr):\n",
        "    if epoch % 5 == 0 and epoch != 0:\n",
        "        lr = lr * 0.5  # Reduce learning rate by half every 5 epochs\n",
        "    return lr\n",
        "\n",
        "# Create the model with increased capacity and more dropout layers\n",
        "model = Sequential([\n",
        "    Conv2D(64, (3, 3), activation='relu', input_shape=(25, 27, 1)),\n",
        "    MaxPooling2D((2, 2)),\n",
        "    Conv2D(128, (3, 3), activation='relu'),\n",
        "    MaxPooling2D((2, 2)),\n",
        "    Conv2D(256, (3, 3), activation='relu'),\n",
        "    MaxPooling2D((2, 2)),\n",
        "    Flatten(),\n",
        "    Dense(512, activation='relu'),\n",
        "    Dropout(0.5),\n",
        "    Dense(256, activation='relu'),\n",
        "    Dropout(0.5),\n",
        "    Dense(3, activation='softmax')\n",
        "])\n",
        "\n",
        "# Compile the model with Adam optimizer and sparse categorical crossentropy loss\n",
        "#model.compile(optimizer=Adam(), loss='sparse_categorical_crossentropy', metrics=['accuracy'])\n",
        "\n",
        "\n",
        "# Compile the model with a different optimizer\n",
        "model.compile(optimizer=RMSprop(), loss='sparse_categorical_crossentropy', metrics=['accuracy'])\n",
        "# OR\n",
        "#model.compile(optimizer=SGD(learning_rate=0.01, momentum=0.9), loss='sparse_categorical_crossentropy', metrics=['accuracy'])\n",
        "# OR\n",
        "#model.compile(optimizer=Nadam(), loss='sparse_categorical_crossentropy', metrics=['accuracy'])\n",
        "\n",
        "\n",
        "# Define data augmentation parameters\n",
        "datagen = ImageDataGenerator(\n",
        "    rotation_range=20,\n",
        "    width_shift_range=0.1,\n",
        "    height_shift_range=0.1,\n",
        "    shear_range=0.2,\n",
        "    zoom_range=0.2,\n",
        "    horizontal_flip=True,\n",
        "    fill_mode='nearest'\n",
        ")\n",
        "\n",
        "# Train the model with data augmentation\n",
        "history = model.fit(datagen.flow(X_train_reshaped, y_train_resampled, batch_size=32),\n",
        "                    steps_per_epoch=len(X_train_reshaped) / 32,\n",
        "                    epochs=50,  # Increase number of epochs\n",
        "                    callbacks=[LearningRateScheduler(lr_scheduler)])  # Apply learning rate scheduler\n",
        "\n"
      ],
      "metadata": {
        "colab": {
          "base_uri": "https://localhost:8080/"
        },
        "id": "cv1m1mh0TE9o",
        "outputId": "5e171eed-5aa6-4327-de8b-5a9e653a3d85"
      },
      "execution_count": null,
      "outputs": [
        {
          "output_type": "stream",
          "name": "stdout",
          "text": [
            "Epoch 1/50\n",
            "1/1 [==============================] - 0s 205ms/step - loss: 8.3943 - accuracy: 0.3962 - lr: 0.0010\n",
            "Epoch 2/50\n",
            "1/1 [==============================] - 0s 177ms/step - loss: 10.1317 - accuracy: 0.4340 - lr: 0.0010\n",
            "Epoch 3/50\n",
            "1/1 [==============================] - 0s 190ms/step - loss: 1.0849 - accuracy: 0.3962 - lr: 0.0010\n",
            "Epoch 4/50\n",
            "1/1 [==============================] - 0s 209ms/step - loss: 1.0425 - accuracy: 0.3962 - lr: 0.0010\n",
            "Epoch 5/50\n",
            "1/1 [==============================] - 0s 172ms/step - loss: 1.2053 - accuracy: 0.3019 - lr: 0.0010\n",
            "Epoch 6/50\n",
            "1/1 [==============================] - 0s 221ms/step - loss: 1.0470 - accuracy: 0.3774 - lr: 5.0000e-04\n",
            "Epoch 7/50\n",
            "1/1 [==============================] - 0s 211ms/step - loss: 1.0020 - accuracy: 0.5660 - lr: 5.0000e-04\n",
            "Epoch 8/50\n",
            "1/1 [==============================] - 0s 202ms/step - loss: 1.0376 - accuracy: 0.3396 - lr: 5.0000e-04\n",
            "Epoch 9/50\n",
            "1/1 [==============================] - 0s 184ms/step - loss: 0.9852 - accuracy: 0.6226 - lr: 5.0000e-04\n",
            "Epoch 10/50\n",
            "1/1 [==============================] - 0s 186ms/step - loss: 1.0040 - accuracy: 0.5472 - lr: 5.0000e-04\n",
            "Epoch 11/50\n",
            "1/1 [==============================] - 0s 210ms/step - loss: 0.9787 - accuracy: 0.5094 - lr: 2.5000e-04\n",
            "Epoch 12/50\n",
            "1/1 [==============================] - 0s 217ms/step - loss: 1.0660 - accuracy: 0.3962 - lr: 2.5000e-04\n",
            "Epoch 13/50\n",
            "1/1 [==============================] - 0s 169ms/step - loss: 1.0114 - accuracy: 0.4717 - lr: 2.5000e-04\n",
            "Epoch 14/50\n",
            "1/1 [==============================] - 0s 183ms/step - loss: 1.0245 - accuracy: 0.3774 - lr: 2.5000e-04\n",
            "Epoch 15/50\n",
            "1/1 [==============================] - 0s 178ms/step - loss: 1.0490 - accuracy: 0.3962 - lr: 2.5000e-04\n",
            "Epoch 16/50\n",
            "1/1 [==============================] - 0s 220ms/step - loss: 1.0214 - accuracy: 0.4151 - lr: 1.2500e-04\n",
            "Epoch 17/50\n",
            "1/1 [==============================] - 0s 307ms/step - loss: 1.0380 - accuracy: 0.4340 - lr: 1.2500e-04\n",
            "Epoch 18/50\n",
            "1/1 [==============================] - 0s 311ms/step - loss: 1.0094 - accuracy: 0.4340 - lr: 1.2500e-04\n",
            "Epoch 19/50\n",
            "1/1 [==============================] - 0s 261ms/step - loss: 1.0022 - accuracy: 0.4717 - lr: 1.2500e-04\n",
            "Epoch 20/50\n",
            "1/1 [==============================] - 0s 280ms/step - loss: 1.0262 - accuracy: 0.3585 - lr: 1.2500e-04\n",
            "Epoch 21/50\n",
            "1/1 [==============================] - 0s 175ms/step - loss: 1.0161 - accuracy: 0.3396 - lr: 6.2500e-05\n",
            "Epoch 22/50\n",
            "1/1 [==============================] - 0s 210ms/step - loss: 1.0381 - accuracy: 0.4151 - lr: 6.2500e-05\n",
            "Epoch 23/50\n",
            "1/1 [==============================] - 0s 169ms/step - loss: 0.9907 - accuracy: 0.4340 - lr: 6.2500e-05\n",
            "Epoch 24/50\n",
            "1/1 [==============================] - 0s 183ms/step - loss: 1.0208 - accuracy: 0.4340 - lr: 6.2500e-05\n",
            "Epoch 25/50\n",
            "1/1 [==============================] - 0s 173ms/step - loss: 1.0532 - accuracy: 0.4151 - lr: 6.2500e-05\n",
            "Epoch 26/50\n",
            "1/1 [==============================] - 0s 198ms/step - loss: 0.9945 - accuracy: 0.4528 - lr: 3.1250e-05\n",
            "Epoch 27/50\n",
            "1/1 [==============================] - 0s 197ms/step - loss: 1.0362 - accuracy: 0.4151 - lr: 3.1250e-05\n",
            "Epoch 28/50\n",
            "1/1 [==============================] - 0s 209ms/step - loss: 0.9888 - accuracy: 0.4717 - lr: 3.1250e-05\n",
            "Epoch 29/50\n",
            "1/1 [==============================] - 0s 172ms/step - loss: 1.0047 - accuracy: 0.4151 - lr: 3.1250e-05\n",
            "Epoch 30/50\n",
            "1/1 [==============================] - 0s 173ms/step - loss: 1.0006 - accuracy: 0.5283 - lr: 3.1250e-05\n",
            "Epoch 31/50\n",
            "1/1 [==============================] - 0s 208ms/step - loss: 1.0061 - accuracy: 0.4340 - lr: 1.5625e-05\n",
            "Epoch 32/50\n",
            "1/1 [==============================] - 0s 193ms/step - loss: 1.0184 - accuracy: 0.4528 - lr: 1.5625e-05\n",
            "Epoch 33/50\n",
            "1/1 [==============================] - 0s 202ms/step - loss: 0.9825 - accuracy: 0.5472 - lr: 1.5625e-05\n",
            "Epoch 34/50\n",
            "1/1 [==============================] - 0s 228ms/step - loss: 0.9910 - accuracy: 0.5849 - lr: 1.5625e-05\n",
            "Epoch 35/50\n",
            "1/1 [==============================] - 0s 180ms/step - loss: 0.9988 - accuracy: 0.3774 - lr: 1.5625e-05\n",
            "Epoch 36/50\n",
            "1/1 [==============================] - 0s 169ms/step - loss: 1.0346 - accuracy: 0.3774 - lr: 7.8125e-06\n",
            "Epoch 37/50\n",
            "1/1 [==============================] - 0s 165ms/step - loss: 0.9761 - accuracy: 0.4906 - lr: 7.8125e-06\n",
            "Epoch 38/50\n",
            "1/1 [==============================] - 0s 177ms/step - loss: 1.0411 - accuracy: 0.3585 - lr: 7.8125e-06\n",
            "Epoch 39/50\n",
            "1/1 [==============================] - 0s 169ms/step - loss: 0.9969 - accuracy: 0.3774 - lr: 7.8125e-06\n",
            "Epoch 40/50\n",
            "1/1 [==============================] - 0s 166ms/step - loss: 1.0635 - accuracy: 0.3774 - lr: 7.8125e-06\n",
            "Epoch 41/50\n",
            "1/1 [==============================] - 0s 194ms/step - loss: 1.0079 - accuracy: 0.4340 - lr: 3.9063e-06\n",
            "Epoch 42/50\n",
            "1/1 [==============================] - 0s 167ms/step - loss: 1.0294 - accuracy: 0.3962 - lr: 3.9063e-06\n",
            "Epoch 43/50\n",
            "1/1 [==============================] - 0s 195ms/step - loss: 1.0003 - accuracy: 0.4717 - lr: 3.9063e-06\n",
            "Epoch 44/50\n",
            "1/1 [==============================] - 0s 169ms/step - loss: 1.0159 - accuracy: 0.3774 - lr: 3.9063e-06\n",
            "Epoch 45/50\n",
            "1/1 [==============================] - 0s 174ms/step - loss: 1.0572 - accuracy: 0.3774 - lr: 3.9063e-06\n",
            "Epoch 46/50\n",
            "1/1 [==============================] - 0s 172ms/step - loss: 0.9824 - accuracy: 0.3962 - lr: 1.9531e-06\n",
            "Epoch 47/50\n",
            "1/1 [==============================] - 0s 165ms/step - loss: 1.0208 - accuracy: 0.4151 - lr: 1.9531e-06\n",
            "Epoch 48/50\n",
            "1/1 [==============================] - 0s 171ms/step - loss: 0.9904 - accuracy: 0.3585 - lr: 1.9531e-06\n",
            "Epoch 49/50\n",
            "1/1 [==============================] - 0s 168ms/step - loss: 1.0362 - accuracy: 0.3396 - lr: 1.9531e-06\n",
            "Epoch 50/50\n",
            "1/1 [==============================] - 0s 203ms/step - loss: 1.0201 - accuracy: 0.4151 - lr: 1.9531e-06\n"
          ]
        }
      ]
    },
    {
      "cell_type": "code",
      "source": [
        "from tensorflow.keras.applications import VGG16\n",
        "import cv2\n",
        "X_train_resized = np.array([cv2.resize(img, (32, 32)) for img in X_train_reshaped])\n",
        "\n",
        "# Load the pre-trained VGG16 model\n",
        "base_model = VGG16(weights='imagenet', include_top=False, input_shape=(32, 32, 3))  # Adjust input shape according to your data\n",
        "\n",
        "# Freeze the weights of the pre-trained layers\n",
        "for layer in base_model.layers:\n",
        "    layer.trainable = False\n",
        "\n",
        "# Add your custom classifier layers on top\n",
        "# Example:\n",
        "from tensorflow.keras.models import Sequential\n",
        "from tensorflow.keras.layers import Flatten, Dense\n",
        "\n",
        "model = Sequential([\n",
        "    base_model,\n",
        "    Flatten(),\n",
        "    Dense(256, activation='relu'),\n",
        "    Dense(3, activation='softmax')\n",
        "])\n",
        "\n",
        "# Compile the model\n",
        "model.compile(optimizer='adam', loss='sparse_categorical_crossentropy', metrics=['accuracy'])\n",
        "\n",
        "# Train the model\n",
        "history = model.fit(X_train_reshaped, y_train_resampled, validation_data=(x_test, y_test), epochs=10, batch_size=32)\n"
      ],
      "metadata": {
        "colab": {
          "base_uri": "https://localhost:8080/",
          "height": 413
        },
        "id": "e0RLf_AlVZSB",
        "outputId": "56db9c83-855a-4002-e40d-0e091b0e3fb8"
      },
      "execution_count": null,
      "outputs": [
        {
          "output_type": "stream",
          "name": "stdout",
          "text": [
            "Epoch 1/10\n"
          ]
        },
        {
          "output_type": "stream",
          "name": "stderr",
          "text": [
            "/usr/local/lib/python3.10/dist-packages/tensorflow/python/data/ops/structured_function.py:258: UserWarning: Even though the `tf.config.experimental_run_functions_eagerly` option is set, this option does not apply to tf.data functions. To force eager execution of tf.data functions, please use `tf.data.experimental.enable_debug_mode()`.\n",
            "  warnings.warn(\n"
          ]
        },
        {
          "output_type": "error",
          "ename": "ValueError",
          "evalue": "Input 0 of layer \"sequential_9\" is incompatible with the layer: expected shape=(None, 32, 32, 3), found shape=(32, 25, 27, 1)",
          "traceback": [
            "\u001b[0;31m---------------------------------------------------------------------------\u001b[0m",
            "\u001b[0;31mValueError\u001b[0m                                Traceback (most recent call last)",
            "\u001b[0;32m<ipython-input-52-c6941bcb90d8>\u001b[0m in \u001b[0;36m<cell line: 28>\u001b[0;34m()\u001b[0m\n\u001b[1;32m     26\u001b[0m \u001b[0;34m\u001b[0m\u001b[0m\n\u001b[1;32m     27\u001b[0m \u001b[0;31m# Train the model\u001b[0m\u001b[0;34m\u001b[0m\u001b[0;34m\u001b[0m\u001b[0m\n\u001b[0;32m---> 28\u001b[0;31m \u001b[0mhistory\u001b[0m \u001b[0;34m=\u001b[0m \u001b[0mmodel\u001b[0m\u001b[0;34m.\u001b[0m\u001b[0mfit\u001b[0m\u001b[0;34m(\u001b[0m\u001b[0mX_train_reshaped\u001b[0m\u001b[0;34m,\u001b[0m \u001b[0my_train_resampled\u001b[0m\u001b[0;34m,\u001b[0m \u001b[0mvalidation_data\u001b[0m\u001b[0;34m=\u001b[0m\u001b[0;34m(\u001b[0m\u001b[0mx_test\u001b[0m\u001b[0;34m,\u001b[0m \u001b[0my_test\u001b[0m\u001b[0;34m)\u001b[0m\u001b[0;34m,\u001b[0m \u001b[0mepochs\u001b[0m\u001b[0;34m=\u001b[0m\u001b[0;36m10\u001b[0m\u001b[0;34m,\u001b[0m \u001b[0mbatch_size\u001b[0m\u001b[0;34m=\u001b[0m\u001b[0;36m32\u001b[0m\u001b[0;34m)\u001b[0m\u001b[0;34m\u001b[0m\u001b[0;34m\u001b[0m\u001b[0m\n\u001b[0m",
            "\u001b[0;32m/usr/local/lib/python3.10/dist-packages/keras/src/utils/traceback_utils.py\u001b[0m in \u001b[0;36merror_handler\u001b[0;34m(*args, **kwargs)\u001b[0m\n\u001b[1;32m     68\u001b[0m             \u001b[0;31m# To get the full stack trace, call:\u001b[0m\u001b[0;34m\u001b[0m\u001b[0;34m\u001b[0m\u001b[0m\n\u001b[1;32m     69\u001b[0m             \u001b[0;31m# `tf.debugging.disable_traceback_filtering()`\u001b[0m\u001b[0;34m\u001b[0m\u001b[0;34m\u001b[0m\u001b[0m\n\u001b[0;32m---> 70\u001b[0;31m             \u001b[0;32mraise\u001b[0m \u001b[0me\u001b[0m\u001b[0;34m.\u001b[0m\u001b[0mwith_traceback\u001b[0m\u001b[0;34m(\u001b[0m\u001b[0mfiltered_tb\u001b[0m\u001b[0;34m)\u001b[0m \u001b[0;32mfrom\u001b[0m \u001b[0;32mNone\u001b[0m\u001b[0;34m\u001b[0m\u001b[0;34m\u001b[0m\u001b[0m\n\u001b[0m\u001b[1;32m     71\u001b[0m         \u001b[0;32mfinally\u001b[0m\u001b[0;34m:\u001b[0m\u001b[0;34m\u001b[0m\u001b[0;34m\u001b[0m\u001b[0m\n\u001b[1;32m     72\u001b[0m             \u001b[0;32mdel\u001b[0m \u001b[0mfiltered_tb\u001b[0m\u001b[0;34m\u001b[0m\u001b[0;34m\u001b[0m\u001b[0m\n",
            "\u001b[0;32m/usr/local/lib/python3.10/dist-packages/keras/src/engine/input_spec.py\u001b[0m in \u001b[0;36massert_input_compatibility\u001b[0;34m(input_spec, inputs, layer_name)\u001b[0m\n\u001b[1;32m    296\u001b[0m                 \u001b[0;32mif\u001b[0m \u001b[0mspec_dim\u001b[0m \u001b[0;32mis\u001b[0m \u001b[0;32mnot\u001b[0m \u001b[0;32mNone\u001b[0m \u001b[0;32mand\u001b[0m \u001b[0mdim\u001b[0m \u001b[0;32mis\u001b[0m \u001b[0;32mnot\u001b[0m \u001b[0;32mNone\u001b[0m\u001b[0;34m:\u001b[0m\u001b[0;34m\u001b[0m\u001b[0;34m\u001b[0m\u001b[0m\n\u001b[1;32m    297\u001b[0m                     \u001b[0;32mif\u001b[0m \u001b[0mspec_dim\u001b[0m \u001b[0;34m!=\u001b[0m \u001b[0mdim\u001b[0m\u001b[0;34m:\u001b[0m\u001b[0;34m\u001b[0m\u001b[0;34m\u001b[0m\u001b[0m\n\u001b[0;32m--> 298\u001b[0;31m                         raise ValueError(\n\u001b[0m\u001b[1;32m    299\u001b[0m                             \u001b[0;34mf'Input {input_index} of layer \"{layer_name}\" is '\u001b[0m\u001b[0;34m\u001b[0m\u001b[0;34m\u001b[0m\u001b[0m\n\u001b[1;32m    300\u001b[0m                             \u001b[0;34m\"incompatible with the layer: \"\u001b[0m\u001b[0;34m\u001b[0m\u001b[0;34m\u001b[0m\u001b[0m\n",
            "\u001b[0;31mValueError\u001b[0m: Input 0 of layer \"sequential_9\" is incompatible with the layer: expected shape=(None, 32, 32, 3), found shape=(32, 25, 27, 1)"
          ]
        }
      ]
    }
  ]
}